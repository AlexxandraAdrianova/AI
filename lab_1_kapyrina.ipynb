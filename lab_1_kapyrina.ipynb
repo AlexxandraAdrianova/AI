{
 "cells": [
  {
   "cell_type": "code",
   "execution_count": 2,
   "metadata": {
    "pycharm": {
     "is_executing": true
    }
   },
   "outputs": [],
   "source": [
    "int_variable = 19  # int\n",
    "assert isinstance(int_variable, int)\n",
    "\n",
    "float_variable = 19.3  # float\n",
    "assert isinstance(float_variable, float)\n",
    "\n",
    "string_variable = \"str\"  # string\n",
    "assert isinstance(string_variable, str)\n",
    "\n",
    "bool_variable = True  # bool\n",
    "assert isinstance(bool_variable, bool)"
   ]
  },
  {
   "cell_type": "code",
   "execution_count": 1,
   "metadata": {
    "pycharm": {
     "is_executing": true
    }
   },
   "outputs": [],
   "source": [
    "list_variable = [1, 2, 3]  # list\n",
    "assert isinstance(list_variable, list)\n",
    "\n",
    "tuple_variable = (9, 5, 4)  # tuple\n",
    "assert isinstance(tuple_variable, tuple)\n",
    "\n",
    "set_variable = {7, 8, 6}  # set\n",
    "assert isinstance(set_variable, set)\n",
    "\n",
    "dict_variable = {'a': 1, 'b': 2}  # dict\n",
    "assert isinstance(dict_variable, dict)"
   ]
  },
  {
   "cell_type": "code",
   "execution_count": 7,
   "metadata": {
    "pycharm": {
     "is_executing": true
    }
   },
   "outputs": [],
   "source": [
    "def difference_of_two_numbers(first, second):\n",
    "\n",
    "    difference_of_two_numbers = first - second\n",
    "    return difference_of_two_numbers\n",
    "        \n",
    "    \n",
    "assert difference_of_two_numbers(2, 1) == 1\n",
    "assert difference_of_two_numbers(4, 1) == 3\n",
    "assert difference_of_two_numbers(10, 0) == 10\n",
    "assert difference_of_two_numbers(-5, -6) == 1"
   ]
  },
  {
   "cell_type": "code",
   "execution_count": 10,
   "metadata": {},
   "outputs": [],
   "source": [
    "def condition_function(input_number):\n",
    "   \n",
    "    if input_number <= 0:\n",
    "        input_number = input_number * 2\n",
    "    elif input_number <= 10:\n",
    "        input_number = input_number * 3\n",
    "    else:\n",
    "        input_number = input_number / 10\n",
    "    return input_number\n",
    "\n",
    "\n",
    "assert condition_function(0) == 0\n",
    "assert condition_function(-1) == -2\n",
    "assert condition_function(1) == 3\n",
    "assert condition_function(10) == 30\n",
    "assert condition_function(11) == 1.1\n",
    "assert condition_function(20) == 2"
   ]
  },
  {
   "cell_type": "code",
   "execution_count": 11,
   "metadata": {},
   "outputs": [],
   "source": [
    "def calculator(number_1, operation, number_2):\n",
    "   \n",
    "    if operation == \"+\":\n",
    "        calculator = number_1 + number_2\n",
    "    if operation == \"-\":\n",
    "        calculator = number_1 - number_2\n",
    "    if operation == \"*\":\n",
    "        calculator = number_1 * number_2\n",
    "    if operation == \"/\":\n",
    "        calculator = number_1 / number_2\n",
    "    return calculator\n",
    "\n",
    "\n",
    "assert calculator(1, \"+\", 2) == 3\n",
    "assert calculator(3, \"-\", 1) == 2\n",
    "assert calculator(4, \"*\", 3) == 12\n",
    "assert calculator(2, \"/\", 2) == 1"
   ]
  },
  {
   "cell_type": "code",
   "execution_count": 12,
   "metadata": {},
   "outputs": [],
   "source": [
    "def number_of_unique_elements(input_list):\n",
    "   \n",
    "    number_of_unique_elements = len(set(input_list))\n",
    "    return number_of_unique_elements\n",
    "\n",
    "\n",
    "assert number_of_unique_elements([1, 2, 3]) == 3\n",
    "assert number_of_unique_elements([1] * 93) == 1\n",
    "assert number_of_unique_elements(list(range(1000))) == 1000"
   ]
  },
  {
   "cell_type": "code",
   "execution_count": 21,
   "metadata": {},
   "outputs": [],
   "source": [
    "def counter(input_list):\n",
    "    dict_var = {}\n",
    "    \n",
    "    for element in input_list:\n",
    "        if element in dict_var:\n",
    "            dict_var[element] = dict_var[element] + 1\n",
    "        else:\n",
    "            dict_var[element] = 1\n",
    "            \n",
    "    return dict_var\n",
    "\n",
    "\n",
    "assert counter([1, 1, 1, 2, 3]) == {1: 3, 2: 1, 3: 1}\n",
    "assert counter([1] * 1000) == {1: 1000}\n",
    "assert counter([1, 3, 5] * 100) == {1: 100, 3: 100, 5: 100}"
   ]
  },
  {
   "cell_type": "code",
   "execution_count": 33,
   "metadata": {
    "scrolled": true
   },
   "outputs": [],
   "source": [
    "def multiply_nums(input_string):\n",
    "    \"\"\"\n",
    "    Перемножить числа, переданные в строке, перечисленные через запятую.\n",
    "    \n",
    "    hint: можно использовать метод .split()\n",
    "    \"\"\"\n",
    "    # TODO: напиши меня\n",
    "        \n",
    "    input_list = input_string.split(sep = ',')\n",
    "    counter = 1 \n",
    "    \n",
    "    for element in input_list:\n",
    "        \n",
    "        counter *= int(element)\n",
    "    return counter\n",
    "\n",
    "\n",
    "assert multiply_nums(\"2, 3\") == 6\n",
    "assert multiply_nums(\"1, 1, 1, 1, 1, 1, 1\") == 1\n",
    "assert multiply_nums(\"345, 4576, 794, 325, 0\") == 0"
   ]
  },
  {
   "cell_type": "code",
   "execution_count": 40,
   "metadata": {},
   "outputs": [],
   "source": [
    "import math\n",
    "def custom_function(x):\n",
    "    \"\"\"\n",
    "    Реализуйте функцию, описанную выше.\n",
    "    \"\"\"\n",
    "    # TODO: напиши меня\n",
    "    y = 1\n",
    "    float(y)\n",
    "    y = math.sin(x) * math.cos(x)\n",
    "    return y\n",
    "\n",
    "assert round(custom_function(1), 3) == 0.455\n",
    "assert round(custom_function(1.5), 3) == 0.071\n",
    "assert round(custom_function(2), 3) == -0.378\n",
    "assert custom_function(0) == 0"
   ]
  },
  {
   "cell_type": "code",
   "execution_count": 47,
   "metadata": {},
   "outputs": [],
   "source": [
    "import math\n",
    "def custom_function_1(x, n):\n",
    "    \n",
    "    counter = 1\n",
    "    \n",
    "    for i in range(1, n + 1):\n",
    "        counter *= (pow(i + 2, x) + math.log(x)) / (math.pow(x, 2) + 4 * i)\n",
    "\n",
    "    return counter\n",
    "\n",
    "\n",
    "assert round(custom_function_1(2, 3), 3) == 2.707\n",
    "assert round(custom_function_1(3, 2), 3) == 8.277\n",
    "assert round(custom_function_1(3, 3), 3) == 49.7"
   ]
  },
  {
   "cell_type": "code",
   "execution_count": 48,
   "metadata": {},
   "outputs": [],
   "source": [
    "class MyList:\n",
    "    def __init__(self, a):\n",
    "        self.a = a\n",
    "    \n",
    "    def return_sum(self):\n",
    "        \n",
    "        counter = 0\n",
    "        \n",
    "        for element in self.a:\n",
    "        \n",
    "            counter += element\n",
    "        return counter\n",
    "    \n",
    "    def make_reverse(self):\n",
    "        \n",
    "        a_rev = list(reversed(self.a))\n",
    "        return a_rev\n",
    "    \n",
    "    def make_slice(self, start, stop):\n",
    "        \n",
    "        printer = self.a[start:stop]\n",
    "        return printer\n",
    "    \n",
    "    \n",
    "a = MyList([1, 2, 3, 4])\n",
    "assert a.return_sum() == 10\n",
    "assert a.make_reverse() == [4, 3, 2, 1]\n",
    "assert a.make_slice(0, 2) == [1, 2]\n",
    "\n",
    "b = MyList([5, 6, 6, 5])\n",
    "assert b.return_sum() == 22\n",
    "assert b.make_reverse() == [5, 6, 6, 5]\n",
    "assert b.make_slice(1, 2) == [6]"
   ]
  },
  {
   "cell_type": "code",
   "execution_count": null,
   "metadata": {},
   "outputs": [],
   "source": []
  }
 ],
 "metadata": {
  "kernelspec": {
   "display_name": "Python 3 (ipykernel)",
   "language": "python",
   "name": "python3"
  },
  "language_info": {
   "codemirror_mode": {
    "name": "ipython",
    "version": 3
   },
   "file_extension": ".py",
   "mimetype": "text/x-python",
   "name": "python",
   "nbconvert_exporter": "python",
   "pygments_lexer": "ipython3",
   "version": "3.9.13"
  }
 },
 "nbformat": 4,
 "nbformat_minor": 1
}
